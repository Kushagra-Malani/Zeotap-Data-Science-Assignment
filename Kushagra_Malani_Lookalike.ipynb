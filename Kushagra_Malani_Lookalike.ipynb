{
 "cells": [
  {
   "cell_type": "code",
   "execution_count": 3,
   "id": "68557fad",
   "metadata": {},
   "outputs": [
    {
     "name": "stdout",
     "output_type": "stream",
     "text": [
      "Lookalike model completed and results saved to Lookalike.csv.\n"
     ]
    }
   ],
   "source": [
    "# Lookalike Model Implementation Using Merged Dataset with Categorical Feature\n",
    "\n",
    "import pandas as pd\n",
    "from sklearn.preprocessing import StandardScaler\n",
    "from sklearn.metrics.pairwise import cosine_similarity\n",
    "\n",
    "# Step 1: Load Data\n",
    "merged_df = pd.read_csv('merged_ecommerce_data.csv')\n",
    "\n",
    "# Step 2: Data Preparation\n",
    "# Aggregate transaction data for each customer\n",
    "customer_features = merged_df.groupby('CustomerID').agg(\n",
    "    TotalSpend=('TotalValue', 'sum'),\n",
    "    TransactionCount=('TransactionID', 'count'),\n",
    "    AverageTransactionValue=('TotalValue', 'mean'),\n",
    "    MostFrequentCategory=('Category', lambda x: x.mode()[0]),  # Get most frequent category\n",
    ").reset_index()\n",
    "\n",
    "# Step 3: One-Hot Encode MostFrequentCategory\n",
    "category_dummies = pd.get_dummies(customer_features['MostFrequentCategory'], prefix='Category')\n",
    "customer_features = pd.concat([customer_features.drop('MostFrequentCategory', axis=1), category_dummies], axis=1)\n",
    "\n",
    "# Step 4: Normalize Numerical Features\n",
    "# Select only numerical features for scaling\n",
    "numerical_features = customer_features[['TotalSpend', 'TransactionCount', 'AverageTransactionValue']]\n",
    "scaler = StandardScaler()\n",
    "scaled_numerical_features = scaler.fit_transform(numerical_features)\n",
    "\n",
    "# Combine scaled numerical features with one-hot encoded categorical features\n",
    "final_features = pd.DataFrame(scaled_numerical_features, columns=numerical_features.columns)\n",
    "final_features = pd.concat([customer_features.drop(['TotalSpend', 'TransactionCount', 'AverageTransactionValue'], axis=1), final_features], axis=1)\n",
    "\n",
    "# Step 5: Calculate Similarity Scores\n",
    "similarity_matrix = cosine_similarity(final_features.drop('CustomerID', axis=1))\n",
    "\n",
    "# Step 6: Generate Recommendations for First 20 Customers\n",
    "lookalike_map = {}\n",
    "for i in range(20):  # For CustomerID C0001 to C0020 (index 0 to 19)\n",
    "    similar_indices = similarity_matrix[i].argsort()[-4:-1][::-1]  # Get top 3 similar customers (excluding self)\n",
    "    similar_customers = customer_features.iloc[similar_indices]['CustomerID'].values\n",
    "    scores = similarity_matrix[i][similar_indices]\n",
    "    \n",
    "    lookalike_map[customer_features['CustomerID'].iloc[i]] = list(zip(similar_customers, scores))\n",
    "\n",
    "# Step 7: Create DataFrame for Output\n",
    "lookalike_df = pd.DataFrame([(cust_id, list(map(list, lookalikes))) for cust_id, lookalikes in lookalike_map.items()],\n",
    "                            columns=['CustomerID', 'Lookalikes'])\n",
    "\n",
    "# Save results to CSV\n",
    "lookalike_df.to_csv('Lookalike.csv', index=False)\n",
    "\n",
    "print(\"Lookalike model completed and results saved to Lookalike.csv.\")\n"
   ]
  },
  {
   "cell_type": "code",
   "execution_count": null,
   "id": "d02ba575",
   "metadata": {},
   "outputs": [],
   "source": []
  }
 ],
 "metadata": {
  "kernelspec": {
   "display_name": "Python 3",
   "language": "python",
   "name": "python3"
  },
  "language_info": {
   "codemirror_mode": {
    "name": "ipython",
    "version": 3
   },
   "file_extension": ".py",
   "mimetype": "text/x-python",
   "name": "python",
   "nbconvert_exporter": "python",
   "pygments_lexer": "ipython3",
   "version": "3.8.8"
  }
 },
 "nbformat": 4,
 "nbformat_minor": 5
}
